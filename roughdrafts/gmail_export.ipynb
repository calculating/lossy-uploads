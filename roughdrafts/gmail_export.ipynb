{
 "cells": [
  {
   "cell_type": "code",
   "execution_count": 1,
   "metadata": {},
   "outputs": [],
   "source": [
    "\n",
    "import html2text\n",
    "\n",
    "# FILEPATH: /Users/galen/Documents/Work/grand unification theory/gmail/export.ipynb\n",
    "\"\"\"Shows basic usage of the Gmail API.\n",
    "Lists the user's Gmail labels.\n",
    "\"\"\"\n",
    "import os.path\n",
    "import base64\n",
    "import email\n",
    "\n",
    "from google.auth.transport.requests import Request\n",
    "from google.oauth2.credentials import Credentials\n",
    "from google_auth_oauthlib.flow import InstalledAppFlow\n",
    "from googleapiclient.discovery import build\n",
    "\n",
    "\n",
    "from googleapiclient.errors import HttpError\n"
   ]
  },
  {
   "cell_type": "code",
   "execution_count": 2,
   "metadata": {},
   "outputs": [],
   "source": [
    "\n",
    "# If modifying these scopes, delete the file token.json.\n",
    "SCOPES = ['https://www.googleapis.com/auth/gmail.readonly']\n",
    "\n"
   ]
  },
  {
   "cell_type": "code",
   "execution_count": 6,
   "metadata": {},
   "outputs": [
    {
     "name": "stdout",
     "output_type": "stream",
     "text": [
      "Messages found.\n"
     ]
    }
   ],
   "source": [
    "\n",
    "\n",
    "creds = None\n",
    "# The file token.json stores the user's access and refresh tokens, and is\n",
    "# created automatically when the authorization flow completes for the first\n",
    "# time.\n",
    "if os.path.exists('token.json'):\n",
    "    creds = Credentials.from_authorized_user_file('token.json', SCOPES)\n",
    "# If there are no (valid) credentials available, let the user log in.\n",
    "if not creds or not creds.valid:\n",
    "    if creds and creds.expired and creds.refresh_token:\n",
    "        creds.refresh(Request())\n",
    "    else:\n",
    "        flow = InstalledAppFlow.from_client_secrets_file(\n",
    "            'credentials.json', SCOPES)\n",
    "        creds = flow.run_local_server(port=0)\n",
    "    # Save the credentials for the next run\n",
    "    with open('token.json', 'w') as token:\n",
    "        token.write(creds.to_json())\n",
    "\n",
    "try:\n",
    "    # Call the Gmail API\n",
    "    service = build('gmail', 'v1', credentials=creds)\n",
    "    results = service.users().messages().list(userId='me', labelIds=['INBOX']).execute()\n",
    "    msgs = results.get('messages', [])\n",
    "\n",
    "    if not msgs:\n",
    "        print('No messages found.')\n",
    "    else:\n",
    "        print('Messages found.')\n",
    "        for msg in msgs[:10]:\n",
    "            # get message content \n",
    "            message = service.users().messages().get(userId='me', id=msg['id']).execute()\n",
    "            message_body = None\n",
    "            h = html2text.HTML2Text()\n",
    "            h.ignore_links = True\n",
    "            h.ignore_images = True\n",
    "\n",
    "            if 'payload' in message and 'parts' in message['payload']:\n",
    "                for part in message['payload']['parts']:\n",
    "                    if part['mimeType'] == 'text/plain':\n",
    "                        message_body = base64.urlsafe_b64decode(part['body']['data'].encode('UTF-8')).decode('UTF-8')\n",
    "                    elif part['mimeType'] == 'text/html':\n",
    "                        message_body = h.handle(base64.urlsafe_b64decode(part['body']['data'].encode('UTF-8')).decode('UTF-8'))\n",
    "            elif 'payload' in message and 'body' in message['payload']:\n",
    "                if message['payload']['mimeType'] == 'text/plain':\n",
    "                    message_body = base64.urlsafe_b64decode(message['payload']['body']['data'].encode('UTF-8')).decode('UTF-8')\n",
    "                elif message['payload']['mimeType'] == 'text/html':\n",
    "                    message_body = h.handle(base64.urlsafe_b64decode(message['payload']['body']['data'].encode('UTF-8')).decode('UTF-8'))\n",
    "            if message_body:\n",
    "                with open(f\"messages/{msg['id']}.txt\", \"w\") as f:\n",
    "                    f.write(message_body)\n",
    "            else:\n",
    "                print(f\"No message body found for message {msg['id']}\")\n",
    "                print(message)\n",
    "                \n",
    "except HttpError as error:\n",
    "    print(f'An error occurred: {error}')\n"
   ]
  }
 ],
 "metadata": {
  "kernelspec": {
   "display_name": "base",
   "language": "python",
   "name": "python3"
  },
  "language_info": {
   "codemirror_mode": {
    "name": "ipython",
    "version": 3
   },
   "file_extension": ".py",
   "mimetype": "text/x-python",
   "name": "python",
   "nbconvert_exporter": "python",
   "pygments_lexer": "ipython3",
   "version": "3.10.9"
  },
  "orig_nbformat": 4
 },
 "nbformat": 4,
 "nbformat_minor": 2
}
